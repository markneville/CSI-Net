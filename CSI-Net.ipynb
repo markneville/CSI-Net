{
 "cells": [
  {
   "cell_type": "code",
   "execution_count": 1,
   "metadata": {},
   "outputs": [],
   "source": [
    "%reload_ext autoreload\n",
    "%autoreload 2\n",
    "%matplotlib inline"
   ]
  },
  {
   "cell_type": "code",
   "execution_count": 2,
   "metadata": {},
   "outputs": [
    {
     "name": "stdout",
     "output_type": "stream",
     "text": [
      "3.7.1 (default, Dec 10 2018, 22:54:23) [MSC v.1915 64 bit (AMD64)]\n"
     ]
    }
   ],
   "source": [
    "import sys; print(sys.version)"
   ]
  },
  {
   "cell_type": "code",
   "execution_count": 3,
   "metadata": {},
   "outputs": [],
   "source": [
    "import scipy.io as sio\n",
    "from fastai.vision import *\n",
    "from torch.utils.data import TensorDataset, DataLoader\n",
    "import numpy as np\n",
    "import torch\n",
    "import torch.nn as nn\n",
    "from torch.autograd import Variable\n",
    "import torch.nn.functional as F\n",
    "import matplotlib.pyplot as plt\n",
    "import math\n",
    "import time\n",
    "from tqdm import tqdm"
   ]
  },
  {
   "cell_type": "code",
   "execution_count": 4,
   "metadata": {},
   "outputs": [],
   "source": [
    "from model.res_net_use_this import ResNet, ResidualBlock, Bottleneck"
   ]
  },
  {
   "cell_type": "code",
   "execution_count": 5,
   "metadata": {},
   "outputs": [],
   "source": [
    "batch_size = 20\n",
    "num_epochs = 20\n",
    "learning_rate = 0.001"
   ]
  },
  {
   "cell_type": "code",
   "execution_count": 6,
   "metadata": {},
   "outputs": [
    {
     "name": "stdout",
     "output_type": "stream",
     "text": [
      "Thu Feb 21 12:20:02 2019       \n",
      "+-----------------------------------------------------------------------------+\n",
      "| NVIDIA-SMI 418.91       Driver Version: 418.91       CUDA Version: 10.1     |\n",
      "|-------------------------------+----------------------+----------------------+\n",
      "| GPU  Name            TCC/WDDM | Bus-Id        Disp.A | Volatile Uncorr. ECC |\n",
      "| Fan  Temp  Perf  Pwr:Usage/Cap|         Memory-Usage | GPU-Util  Compute M. |\n",
      "|===============================+======================+======================|\n",
      "|   0  GeForce GTX 108... WDDM  | 00000000:03:00.0  On |                  N/A |\n",
      "| 23%   28C    P8    11W / 250W |    284MiB / 11264MiB |      0%      Default |\n",
      "+-------------------------------+----------------------+----------------------+\n",
      "|   1  GeForce GTX 1080   WDDM  | 00000000:04:00.0  On |                  N/A |\n",
      "| 27%   31C    P8     7W / 180W |    664MiB /  8192MiB |     11%      Default |\n",
      "+-------------------------------+----------------------+----------------------+\n",
      "                                                                               \n",
      "+-----------------------------------------------------------------------------+\n",
      "| Processes:                                                       GPU Memory |\n",
      "|  GPU       PID   Type   Process name                             Usage      |\n",
      "|=============================================================================|\n",
      "|    0      4840    C+G   ...re\\Command Center\\ThermalController.exe N/A      |\n",
      "|    0     27976    C+G   ...ptions\\Software\\Current\\LogiOverlay.exe N/A      |\n",
      "|    0     28388    C+G   Insufficient Permissions                   N/A      |\n",
      "|    1      4840    C+G   ...re\\Command Center\\ThermalController.exe N/A      |\n",
      "|    1      5356    C+G   ...0453.0_x64__8wekyb3d8bbwe\\YourPhone.exe N/A      |\n",
      "|    1      6980    C+G   ...DIA GeForce Experience\\NVIDIA Share.exe N/A      |\n",
      "|    1      8432    C+G   ...8.138.0_x64__kzf8qxf38zg5c\\SkypeApp.exe N/A      |\n",
      "|    1     10100    C+G   ...e Stream\\29.1.85.2056\\GoogleDriveFS.exe N/A      |\n",
      "|    1     12792    C+G   ...\\Local\\dialpad\\app-17.100.2\\Dialpad.exe N/A      |\n",
      "|    1     13864    C+G   ...dows.Cortana_cw5n1h2txyewy\\SearchUI.exe N/A      |\n",
      "|    1     14148    C+G   ...hell.Experiences.TextInput.InputApp.exe N/A      |\n",
      "|    1     14180    C+G   ...osoft.LockApp_cw5n1h2txyewy\\LockApp.exe N/A      |\n",
      "|    1     16320    C+G   ...t_cw5n1h2txyewy\\ShellExperienceHost.exe N/A      |\n",
      "|    1     16340    C+G   ...tHubDesktop\\app-1.6.2\\GitHubDesktop.exe N/A      |\n",
      "|    1     21840    C+G   ...mmersiveControlPanel\\SystemSettings.exe N/A      |\n",
      "|    1     23960    C+G   ...ons\\Software\\Current\\LogiOptionsMgr.exe N/A      |\n",
      "|    1     25068    C+G   ...5n1h2txyewy\\StartMenuExperienceHost.exe N/A      |\n",
      "|    1     27976    C+G   ...ptions\\Software\\Current\\LogiOverlay.exe N/A      |\n",
      "|    1     28388    C+G   Insufficient Permissions                   N/A      |\n",
      "|    1     29396    C+G   C:\\Windows\\explorer.exe                    N/A      |\n",
      "|    1     31576    C+G   ...x64__8wekyb3d8bbwe\\Microsoft.Photos.exe N/A      |\n",
      "|    1     33628    C+G   D:\\dev\\Microsoft VS Code\\Code.exe          N/A      |\n",
      "+-----------------------------------------------------------------------------+\n"
     ]
    }
   ],
   "source": [
    "!nvidia-smi"
   ]
  },
  {
   "cell_type": "code",
   "execution_count": 7,
   "metadata": {},
   "outputs": [],
   "source": [
    "PATH=Path('data/')"
   ]
  },
  {
   "cell_type": "code",
   "execution_count": 8,
   "metadata": {},
   "outputs": [
    {
     "data": {
      "text/plain": [
       "[('aug_train_data', (38633, 30), 'double'),\n",
       " ('aug_train_label', (38633, 9), 'double')]"
      ]
     },
     "execution_count": 8,
     "metadata": {},
     "output_type": "execute_result"
    }
   ],
   "source": [
    "sio.whosmat(PATH/f'aug_train_data.mat')"
   ]
  },
  {
   "cell_type": "code",
   "execution_count": 9,
   "metadata": {},
   "outputs": [
    {
     "data": {
      "text/plain": [
       "{'__header__': b'MATLAB 5.0 MAT-file, Platform: PCWIN64, Created on: Tue Apr 10 13:06:16 2018',\n",
       " '__version__': '1.0',\n",
       " '__globals__': [],\n",
       " 'aug_train_data': array([[ 30.986349,  66.696615,  89.191177, 107.440148, ...,  21.567924,  33.402839,  41.316166,  35.6314  ],\n",
       "        [ 31.000555,  66.674004,  89.128681, 107.344902, ...,  21.528592,  33.400976,  41.291833,  35.60947 ],\n",
       "        [ 31.016712,  66.656017,  89.072481, 107.257079, ...,  21.490221,  33.40014 ,  41.269528,  35.589458],\n",
       "        [ 31.034781,  66.642589,  89.022504, 107.176601, ...,  21.452846,  33.400322,  41.249235,  35.571345],\n",
       "        ...,\n",
       "        [ 28.768423,  66.065946,  90.730008, 111.442611, ...,  28.044473,  12.206115,  22.673065,  22.486479],\n",
       "        [ 32.304686,  72.489195,  98.974761, 120.000958, ...,  30.553175,  10.668108,  20.468008,  21.2884  ],\n",
       "        [ 26.815675,  66.04399 ,  93.072998, 116.487214, ...,  29.530984,   7.738786,  21.665632,  22.855638],\n",
       "        [ 30.255836,  66.656272,  90.221104, 109.69484 , ...,  28.458322,  11.550365,  19.43388 ,  19.652437]]),\n",
       " 'aug_train_label': array([[ 1.      ,  5.      , 89.7     , 65.1     , ...,  0.125   ,  0.882222,  0.717143,  0.722222],\n",
       "        [ 1.      ,  5.      , 89.7     , 65.1     , ...,  0.125   ,  0.882222,  0.717143,  0.722222],\n",
       "        [ 1.      ,  5.      , 89.7     , 65.1     , ...,  0.125   ,  0.882222,  0.717143,  0.722222],\n",
       "        [ 1.      ,  5.      , 89.7     , 65.1     , ...,  0.125   ,  0.882222,  0.717143,  0.722222],\n",
       "        ...,\n",
       "        [30.      , 22.3     , 73.6     , 53.2     , ...,  0.5575  ,  0.524444,  0.377143,  0.133333],\n",
       "        [30.      , 22.3     , 73.6     , 53.2     , ...,  0.5575  ,  0.524444,  0.377143,  0.133333],\n",
       "        [30.      , 22.3     , 73.6     , 53.2     , ...,  0.5575  ,  0.524444,  0.377143,  0.133333],\n",
       "        [30.      , 22.3     , 73.6     , 53.2     , ...,  0.5575  ,  0.524444,  0.377143,  0.133333]])}"
      ]
     },
     "execution_count": 9,
     "metadata": {},
     "output_type": "execute_result"
    }
   ],
   "source": [
    "mat = sio.loadmat(PATH/f'aug_train_data.mat'); mat"
   ]
  },
  {
   "cell_type": "code",
   "execution_count": 10,
   "metadata": {},
   "outputs": [
    {
     "data": {
      "text/plain": [
       "(38633, 30)"
      ]
     },
     "execution_count": 10,
     "metadata": {},
     "output_type": "execute_result"
    }
   ],
   "source": [
    "train_data = mat['aug_train_data']; train_data.shape"
   ]
  },
  {
   "cell_type": "code",
   "execution_count": 11,
   "metadata": {},
   "outputs": [
    {
     "data": {
      "text/plain": [
       "(38633, 9)"
      ]
     },
     "execution_count": 11,
     "metadata": {},
     "output_type": "execute_result"
    }
   ],
   "source": [
    "train_label = mat['aug_train_label']; train_label.shape"
   ]
  },
  {
   "cell_type": "code",
   "execution_count": 12,
   "metadata": {},
   "outputs": [
    {
     "data": {
      "text/plain": [
       "array([[ 0.      ,  5.      , 89.7     , 65.1     , ...,  0.125   ,  0.882222,  0.717143,  0.722222],\n",
       "       [ 0.      ,  5.      , 89.7     , 65.1     , ...,  0.125   ,  0.882222,  0.717143,  0.722222],\n",
       "       [ 0.      ,  5.      , 89.7     , 65.1     , ...,  0.125   ,  0.882222,  0.717143,  0.722222],\n",
       "       [ 0.      ,  5.      , 89.7     , 65.1     , ...,  0.125   ,  0.882222,  0.717143,  0.722222],\n",
       "       ...,\n",
       "       [29.      , 22.3     , 73.6     , 53.2     , ...,  0.5575  ,  0.524444,  0.377143,  0.133333],\n",
       "       [29.      , 22.3     , 73.6     , 53.2     , ...,  0.5575  ,  0.524444,  0.377143,  0.133333],\n",
       "       [29.      , 22.3     , 73.6     , 53.2     , ...,  0.5575  ,  0.524444,  0.377143,  0.133333],\n",
       "       [29.      , 22.3     , 73.6     , 53.2     , ...,  0.5575  ,  0.524444,  0.377143,  0.133333]])"
      ]
     },
     "execution_count": 12,
     "metadata": {},
     "output_type": "execute_result"
    }
   ],
   "source": [
    "train_label[:, 0] = train_label[:, 0] - 1; train_label"
   ]
  },
  {
   "cell_type": "code",
   "execution_count": 13,
   "metadata": {},
   "outputs": [],
   "source": [
    "num_train_instances = len(train_data)\n",
    "train_data = torch.from_numpy(train_data).type(torch.FloatTensor).view(num_train_instances, 30, 1, 1)\n",
    "train_label = torch.from_numpy(train_label).type(torch.FloatTensor)\n",
    "train_dataset = TensorDataset(train_data, train_label)\n",
    "train_data_loader = DataLoader(dataset=train_dataset, batch_size=batch_size, shuffle=True)"
   ]
  },
  {
   "cell_type": "code",
   "execution_count": 14,
   "metadata": {},
   "outputs": [
    {
     "data": {
      "text/plain": [
       "[('test_data', (4444, 30), 'double'), ('test_label', (4444, 9), 'double')]"
      ]
     },
     "execution_count": 14,
     "metadata": {},
     "output_type": "execute_result"
    }
   ],
   "source": [
    "sio.whosmat(PATH/f'test.mat')"
   ]
  },
  {
   "cell_type": "code",
   "execution_count": 15,
   "metadata": {},
   "outputs": [
    {
     "data": {
      "text/plain": [
       "{'__header__': b'MATLAB 5.0 MAT-file, Platform: PCWIN64, Created on: Mon Apr 09 16:09:11 2018',\n",
       " '__version__': '1.0',\n",
       " '__globals__': [],\n",
       " 'test_data': array([[ 31.69325 ,  68.672322,  91.424062, 109.585392, ...,  13.151581,  26.322912,  36.42973 ,  32.152809],\n",
       "        [ 31.677454,  68.663352,  91.424086, 109.596771, ...,  13.15013 ,  26.315097,  36.430637,  32.156283],\n",
       "        [ 31.662161,  68.654645,  91.424127, 109.607841, ...,  13.148728,  26.307654,  36.43158 ,  32.159659],\n",
       "        [ 31.647381,  68.646203,  91.42418 , 109.618587, ...,  13.147373,  26.300585,  36.432554,  32.162932],\n",
       "        ...,\n",
       "        [ 41.715149,  82.797009, 106.103027, 121.930894, ...,  30.928163,  11.535122,  17.998903,  19.699683],\n",
       "        [ 41.651226,  82.777406, 106.143961, 122.04256 , ...,  30.887208,  11.405573,  18.036946,  19.766039],\n",
       "        [ 41.583979,  82.753862, 106.181303, 122.152158, ...,  30.845885,  11.27573 ,  18.075906,  19.833085],\n",
       "        [ 41.513455,  82.726378, 106.214998, 122.259574, ...,  30.80421 ,  11.145693,  18.115765,  19.900778]]),\n",
       " 'test_label': array([[ 1.      ,  5.      , 89.7     , 65.1     , ...,  0.125   ,  0.882222,  0.717143,  0.722222],\n",
       "        [ 1.      ,  5.      , 89.7     , 65.1     , ...,  0.125   ,  0.882222,  0.717143,  0.722222],\n",
       "        [ 1.      ,  5.      , 89.7     , 65.1     , ...,  0.125   ,  0.882222,  0.717143,  0.722222],\n",
       "        [ 1.      ,  5.      , 89.7     , 65.1     , ...,  0.125   ,  0.882222,  0.717143,  0.722222],\n",
       "        ...,\n",
       "        [30.      , 22.3     , 73.6     , 53.2     , ...,  0.5575  ,  0.524444,  0.377143,  0.133333],\n",
       "        [30.      , 22.3     , 73.6     , 53.2     , ...,  0.5575  ,  0.524444,  0.377143,  0.133333],\n",
       "        [30.      , 22.3     , 73.6     , 53.2     , ...,  0.5575  ,  0.524444,  0.377143,  0.133333],\n",
       "        [30.      , 22.3     , 73.6     , 53.2     , ...,  0.5575  ,  0.524444,  0.377143,  0.133333]])}"
      ]
     },
     "execution_count": 15,
     "metadata": {},
     "output_type": "execute_result"
    }
   ],
   "source": [
    "mat = sio.loadmat('data/test.mat'); mat"
   ]
  },
  {
   "cell_type": "code",
   "execution_count": 16,
   "metadata": {},
   "outputs": [
    {
     "data": {
      "text/plain": [
       "(4444, 30)"
      ]
     },
     "execution_count": 16,
     "metadata": {},
     "output_type": "execute_result"
    }
   ],
   "source": [
    "test_data = mat['test_data']; test_data.shape"
   ]
  },
  {
   "cell_type": "code",
   "execution_count": 17,
   "metadata": {},
   "outputs": [
    {
     "data": {
      "text/plain": [
       "(4444, 9)"
      ]
     },
     "execution_count": 17,
     "metadata": {},
     "output_type": "execute_result"
    }
   ],
   "source": [
    "test_label = mat['test_label']; test_label.shape"
   ]
  },
  {
   "cell_type": "code",
   "execution_count": 18,
   "metadata": {},
   "outputs": [
    {
     "data": {
      "text/plain": [
       "array([[ 0.      ,  5.      , 89.7     , 65.1     , ...,  0.125   ,  0.882222,  0.717143,  0.722222],\n",
       "       [ 0.      ,  5.      , 89.7     , 65.1     , ...,  0.125   ,  0.882222,  0.717143,  0.722222],\n",
       "       [ 0.      ,  5.      , 89.7     , 65.1     , ...,  0.125   ,  0.882222,  0.717143,  0.722222],\n",
       "       [ 0.      ,  5.      , 89.7     , 65.1     , ...,  0.125   ,  0.882222,  0.717143,  0.722222],\n",
       "       ...,\n",
       "       [29.      , 22.3     , 73.6     , 53.2     , ...,  0.5575  ,  0.524444,  0.377143,  0.133333],\n",
       "       [29.      , 22.3     , 73.6     , 53.2     , ...,  0.5575  ,  0.524444,  0.377143,  0.133333],\n",
       "       [29.      , 22.3     , 73.6     , 53.2     , ...,  0.5575  ,  0.524444,  0.377143,  0.133333],\n",
       "       [29.      , 22.3     , 73.6     , 53.2     , ...,  0.5575  ,  0.524444,  0.377143,  0.133333]])"
      ]
     },
     "execution_count": 18,
     "metadata": {},
     "output_type": "execute_result"
    }
   ],
   "source": [
    "test_label[:, 0] = test_label[:, 0] - 1; test_label"
   ]
  },
  {
   "cell_type": "code",
   "execution_count": 19,
   "metadata": {},
   "outputs": [],
   "source": [
    "num_test_instances = len(test_data)\n",
    "test_data = torch.from_numpy(test_data).type(torch.FloatTensor).view(num_test_instances, 30, 1, 1)\n",
    "test_label = torch.from_numpy(test_label).type(torch.FloatTensor)\n",
    "test_dataset = TensorDataset(test_data, test_label)\n",
    "test_data_loader = DataLoader(dataset=test_dataset, batch_size=batch_size, shuffle=False)"
   ]
  },
  {
   "cell_type": "code",
   "execution_count": 20,
   "metadata": {},
   "outputs": [],
   "source": [
    "resnet = ResNet(ResidualBlock, [2, 2, 2, 2], 30)"
   ]
  },
  {
   "cell_type": "code",
   "execution_count": 21,
   "metadata": {},
   "outputs": [],
   "source": [
    "resnet = resnet.cuda()"
   ]
  },
  {
   "cell_type": "code",
   "execution_count": 22,
   "metadata": {},
   "outputs": [],
   "source": [
    "criterion1 = nn.CrossEntropyLoss().cuda()\n",
    "criterion2 = nn.L1Loss().cuda()\n",
    "optimizer = torch.optim.Adam(resnet.parameters(), lr=learning_rate)\n",
    "scheduler = torch.optim.lr_scheduler.MultiStepLR(optimizer, milestones=[3, 6, 9, 12, 15, 18], gamma=0.3)"
   ]
  },
  {
   "cell_type": "code",
   "execution_count": 23,
   "metadata": {},
   "outputs": [
    {
     "name": "stdout",
     "output_type": "stream",
     "text": [
      "Epoch: 0\n"
     ]
    },
    {
     "name": "stderr",
     "output_type": "stream",
     "text": [
      "100%|██████████████████████████████████████████████████████████████████████████████| 1932/1932 [03:51<00:00,  8.61it/s]\n",
      "100%|██████████████████████████████████████████████████████████████████████████████| 1932/1932 [00:57<00:00, 33.74it/s]\n"
     ]
    },
    {
     "name": "stdout",
     "output_type": "stream",
     "text": [
      "Training accuracy: 87.89118111459115\n"
     ]
    },
    {
     "name": "stderr",
     "output_type": "stream",
     "text": [
      "100%|████████████████████████████████████████████████████████████████████████████████| 223/223 [00:06<00:00, 32.91it/s]\n"
     ]
    },
    {
     "name": "stdout",
     "output_type": "stream",
     "text": [
      "Test accuracy: 68.15931593159316\n",
      "Epoch: 1\n"
     ]
    },
    {
     "name": "stderr",
     "output_type": "stream",
     "text": [
      "100%|██████████████████████████████████████████████████████████████████████████████| 1932/1932 [03:51<00:00,  8.20it/s]\n",
      "100%|██████████████████████████████████████████████████████████████████████████████| 1932/1932 [00:58<00:00, 32.63it/s]\n"
     ]
    },
    {
     "name": "stdout",
     "output_type": "stream",
     "text": [
      "Training accuracy: 59.17997566846996\n"
     ]
    },
    {
     "name": "stderr",
     "output_type": "stream",
     "text": [
      "100%|████████████████████████████████████████████████████████████████████████████████| 223/223 [00:06<00:00, 32.93it/s]\n"
     ]
    },
    {
     "name": "stdout",
     "output_type": "stream",
     "text": [
      "Test accuracy: 54.95049504950495\n",
      "Epoch: 2\n"
     ]
    },
    {
     "name": "stderr",
     "output_type": "stream",
     "text": [
      "100%|██████████████████████████████████████████████████████████████████████████████| 1932/1932 [03:51<00:00,  7.95it/s]\n",
      "100%|██████████████████████████████████████████████████████████████████████████████| 1932/1932 [00:58<00:00, 32.85it/s]\n"
     ]
    },
    {
     "name": "stdout",
     "output_type": "stream",
     "text": [
      "Training accuracy: 99.43312711930216\n"
     ]
    },
    {
     "name": "stderr",
     "output_type": "stream",
     "text": [
      "100%|████████████████████████████████████████████████████████████████████████████████| 223/223 [00:06<00:00, 32.70it/s]\n"
     ]
    },
    {
     "name": "stdout",
     "output_type": "stream",
     "text": [
      "Test accuracy: 80.58055805580558\n",
      "Epoch: 3\n"
     ]
    },
    {
     "name": "stderr",
     "output_type": "stream",
     "text": [
      "100%|██████████████████████████████████████████████████████████████████████████████| 1932/1932 [03:49<00:00,  8.87it/s]\n",
      "100%|██████████████████████████████████████████████████████████████████████████████| 1932/1932 [00:58<00:00, 33.29it/s]\n"
     ]
    },
    {
     "name": "stdout",
     "output_type": "stream",
     "text": [
      "Training accuracy: 99.87834234980457\n"
     ]
    },
    {
     "name": "stderr",
     "output_type": "stream",
     "text": [
      "100%|████████████████████████████████████████████████████████████████████████████████| 223/223 [00:06<00:00, 33.16it/s]\n"
     ]
    },
    {
     "name": "stdout",
     "output_type": "stream",
     "text": [
      "Test accuracy: 82.15571557155715\n",
      "Epoch: 4\n"
     ]
    },
    {
     "name": "stderr",
     "output_type": "stream",
     "text": [
      "100%|██████████████████████████████████████████████████████████████████████████████| 1932/1932 [03:52<00:00,  7.93it/s]\n",
      "100%|██████████████████████████████████████████████████████████████████████████████| 1932/1932 [00:59<00:00, 32.48it/s]\n"
     ]
    },
    {
     "name": "stdout",
     "output_type": "stream",
     "text": [
      "Training accuracy: 100.0\n"
     ]
    },
    {
     "name": "stderr",
     "output_type": "stream",
     "text": [
      "100%|████████████████████████████████████████████████████████████████████████████████| 223/223 [00:06<00:00, 32.65it/s]\n"
     ]
    },
    {
     "name": "stdout",
     "output_type": "stream",
     "text": [
      "Test accuracy: 84.47344734473447\n",
      "Epoch: 5\n"
     ]
    },
    {
     "name": "stderr",
     "output_type": "stream",
     "text": [
      "100%|██████████████████████████████████████████████████████████████████████████████| 1932/1932 [03:52<00:00,  8.38it/s]\n",
      "100%|██████████████████████████████████████████████████████████████████████████████| 1932/1932 [00:58<00:00, 32.40it/s]\n"
     ]
    },
    {
     "name": "stdout",
     "output_type": "stream",
     "text": [
      "Training accuracy: 100.0\n"
     ]
    },
    {
     "name": "stderr",
     "output_type": "stream",
     "text": [
      "100%|████████████████████████████████████████████████████████████████████████████████| 223/223 [00:06<00:00, 33.13it/s]\n"
     ]
    },
    {
     "name": "stdout",
     "output_type": "stream",
     "text": [
      "Test accuracy: 84.9009900990099\n",
      "Epoch: 6\n"
     ]
    },
    {
     "name": "stderr",
     "output_type": "stream",
     "text": [
      "100%|██████████████████████████████████████████████████████████████████████████████| 1932/1932 [03:50<00:00,  8.42it/s]\n",
      "100%|██████████████████████████████████████████████████████████████████████████████| 1932/1932 [00:58<00:00, 33.20it/s]\n"
     ]
    },
    {
     "name": "stdout",
     "output_type": "stream",
     "text": [
      "Training accuracy: 99.99741153935754\n"
     ]
    },
    {
     "name": "stderr",
     "output_type": "stream",
     "text": [
      "100%|████████████████████████████████████████████████████████████████████████████████| 223/223 [00:06<00:00, 32.88it/s]\n"
     ]
    },
    {
     "name": "stdout",
     "output_type": "stream",
     "text": [
      "Test accuracy: 85.57605760576058\n",
      "Epoch: 7\n"
     ]
    },
    {
     "name": "stderr",
     "output_type": "stream",
     "text": [
      "100%|██████████████████████████████████████████████████████████████████████████████| 1932/1932 [03:49<00:00,  8.81it/s]\n",
      "100%|██████████████████████████████████████████████████████████████████████████████| 1932/1932 [00:58<00:00, 32.76it/s]\n"
     ]
    },
    {
     "name": "stdout",
     "output_type": "stream",
     "text": [
      "Training accuracy: 100.0\n"
     ]
    },
    {
     "name": "stderr",
     "output_type": "stream",
     "text": [
      "100%|████████████████████████████████████████████████████████████████████████████████| 223/223 [00:06<00:00, 32.19it/s]\n"
     ]
    },
    {
     "name": "stdout",
     "output_type": "stream",
     "text": [
      "Test accuracy: 86.25112511251125\n",
      "Epoch: 8\n"
     ]
    },
    {
     "name": "stderr",
     "output_type": "stream",
     "text": [
      "100%|██████████████████████████████████████████████████████████████████████████████| 1932/1932 [03:50<00:00,  8.80it/s]\n",
      "100%|██████████████████████████████████████████████████████████████████████████████| 1932/1932 [00:58<00:00, 33.62it/s]\n"
     ]
    },
    {
     "name": "stdout",
     "output_type": "stream",
     "text": [
      "Training accuracy: 100.0\n"
     ]
    },
    {
     "name": "stderr",
     "output_type": "stream",
     "text": [
      "100%|████████████████████████████████████████████████████████████████████████████████| 223/223 [00:06<00:00, 32.28it/s]\n"
     ]
    },
    {
     "name": "stdout",
     "output_type": "stream",
     "text": [
      "Test accuracy: 84.8109810981098\n",
      "Epoch: 9\n"
     ]
    },
    {
     "name": "stderr",
     "output_type": "stream",
     "text": [
      "100%|██████████████████████████████████████████████████████████████████████████████| 1932/1932 [03:51<00:00,  8.73it/s]\n",
      "100%|██████████████████████████████████████████████████████████████████████████████| 1932/1932 [00:58<00:00, 31.49it/s]\n"
     ]
    },
    {
     "name": "stdout",
     "output_type": "stream",
     "text": [
      "Training accuracy: 100.0\n"
     ]
    },
    {
     "name": "stderr",
     "output_type": "stream",
     "text": [
      "100%|████████████████████████████████████████████████████████████████████████████████| 223/223 [00:06<00:00, 32.75it/s]\n"
     ]
    },
    {
     "name": "stdout",
     "output_type": "stream",
     "text": [
      "Test accuracy: 84.56345634563456\n",
      "Epoch: 10\n"
     ]
    },
    {
     "name": "stderr",
     "output_type": "stream",
     "text": [
      "100%|██████████████████████████████████████████████████████████████████████████████| 1932/1932 [03:50<00:00,  8.88it/s]\n",
      "100%|██████████████████████████████████████████████████████████████████████████████| 1932/1932 [00:58<00:00, 32.43it/s]\n"
     ]
    },
    {
     "name": "stdout",
     "output_type": "stream",
     "text": [
      "Training accuracy: 100.0\n"
     ]
    },
    {
     "name": "stderr",
     "output_type": "stream",
     "text": [
      "100%|████████████████████████████████████████████████████████████████████████████████| 223/223 [00:06<00:00, 32.48it/s]\n"
     ]
    },
    {
     "name": "stdout",
     "output_type": "stream",
     "text": [
      "Test accuracy: 84.76597659765977\n",
      "Epoch: 11\n"
     ]
    },
    {
     "name": "stderr",
     "output_type": "stream",
     "text": [
      "100%|██████████████████████████████████████████████████████████████████████████████| 1932/1932 [03:51<00:00,  8.43it/s]\n",
      "100%|██████████████████████████████████████████████████████████████████████████████| 1932/1932 [00:58<00:00, 33.50it/s]\n"
     ]
    },
    {
     "name": "stdout",
     "output_type": "stream",
     "text": [
      "Training accuracy: 100.0\n"
     ]
    },
    {
     "name": "stderr",
     "output_type": "stream",
     "text": [
      "100%|████████████████████████████████████████████████████████████████████████████████| 223/223 [00:06<00:00, 32.22it/s]\n"
     ]
    },
    {
     "name": "stdout",
     "output_type": "stream",
     "text": [
      "Test accuracy: 84.67596759675968\n",
      "Epoch: 12\n"
     ]
    },
    {
     "name": "stderr",
     "output_type": "stream",
     "text": [
      "100%|██████████████████████████████████████████████████████████████████████████████| 1932/1932 [03:50<00:00,  8.52it/s]\n",
      "100%|██████████████████████████████████████████████████████████████████████████████| 1932/1932 [01:00<00:00, 32.01it/s]\n"
     ]
    },
    {
     "name": "stdout",
     "output_type": "stream",
     "text": [
      "Training accuracy: 100.0\n"
     ]
    },
    {
     "name": "stderr",
     "output_type": "stream",
     "text": [
      "100%|████████████████████████████████████████████████████████████████████████████████| 223/223 [00:06<00:00, 31.48it/s]\n"
     ]
    },
    {
     "name": "stdout",
     "output_type": "stream",
     "text": [
      "Test accuracy: 85.01350135013502\n",
      "Epoch: 13\n"
     ]
    },
    {
     "name": "stderr",
     "output_type": "stream",
     "text": [
      "100%|██████████████████████████████████████████████████████████████████████████████| 1932/1932 [03:55<00:00,  8.50it/s]\n",
      "100%|██████████████████████████████████████████████████████████████████████████████| 1932/1932 [00:58<00:00, 33.43it/s]\n"
     ]
    },
    {
     "name": "stdout",
     "output_type": "stream",
     "text": [
      "Training accuracy: 100.0\n"
     ]
    },
    {
     "name": "stderr",
     "output_type": "stream",
     "text": [
      "100%|████████████████████████████████████████████████████████████████████████████████| 223/223 [00:06<00:00, 32.36it/s]\n"
     ]
    },
    {
     "name": "stdout",
     "output_type": "stream",
     "text": [
      "Test accuracy: 85.26102610261026\n",
      "Epoch: 14\n"
     ]
    },
    {
     "name": "stderr",
     "output_type": "stream",
     "text": [
      "100%|██████████████████████████████████████████████████████████████████████████████| 1932/1932 [03:53<00:00,  8.39it/s]\n",
      "100%|██████████████████████████████████████████████████████████████████████████████| 1932/1932 [00:59<00:00, 31.77it/s]\n"
     ]
    },
    {
     "name": "stdout",
     "output_type": "stream",
     "text": [
      "Training accuracy: 100.0\n"
     ]
    },
    {
     "name": "stderr",
     "output_type": "stream",
     "text": [
      "100%|████████████████████████████████████████████████████████████████████████████████| 223/223 [00:06<00:00, 32.66it/s]\n"
     ]
    },
    {
     "name": "stdout",
     "output_type": "stream",
     "text": [
      "Test accuracy: 84.60846084608461\n",
      "Epoch: 15\n"
     ]
    },
    {
     "name": "stderr",
     "output_type": "stream",
     "text": [
      "100%|██████████████████████████████████████████████████████████████████████████████| 1932/1932 [03:51<00:00,  8.47it/s]\n",
      "100%|██████████████████████████████████████████████████████████████████████████████| 1932/1932 [00:58<00:00, 33.01it/s]\n"
     ]
    },
    {
     "name": "stdout",
     "output_type": "stream",
     "text": [
      "Training accuracy: 100.0\n"
     ]
    },
    {
     "name": "stderr",
     "output_type": "stream",
     "text": [
      "100%|████████████████████████████████████████████████████████████████████████████████| 223/223 [00:06<00:00, 32.97it/s]\n"
     ]
    },
    {
     "name": "stdout",
     "output_type": "stream",
     "text": [
      "Test accuracy: 84.8109810981098\n",
      "Epoch: 16\n"
     ]
    },
    {
     "name": "stderr",
     "output_type": "stream",
     "text": [
      "100%|██████████████████████████████████████████████████████████████████████████████| 1932/1932 [03:51<00:00,  8.48it/s]\n",
      "100%|██████████████████████████████████████████████████████████████████████████████| 1932/1932 [00:58<00:00, 32.90it/s]\n"
     ]
    },
    {
     "name": "stdout",
     "output_type": "stream",
     "text": [
      "Training accuracy: 100.0\n"
     ]
    },
    {
     "name": "stderr",
     "output_type": "stream",
     "text": [
      "100%|████████████████████████████████████████████████████████████████████████████████| 223/223 [00:06<00:00, 32.47it/s]\n"
     ]
    },
    {
     "name": "stdout",
     "output_type": "stream",
     "text": [
      "Test accuracy: 84.87848784878487\n",
      "Epoch: 17\n"
     ]
    },
    {
     "name": "stderr",
     "output_type": "stream",
     "text": [
      "100%|██████████████████████████████████████████████████████████████████████████████| 1932/1932 [03:52<00:00,  8.40it/s]\n",
      "100%|██████████████████████████████████████████████████████████████████████████████| 1932/1932 [00:58<00:00, 32.09it/s]\n"
     ]
    },
    {
     "name": "stdout",
     "output_type": "stream",
     "text": [
      "Training accuracy: 100.0\n"
     ]
    },
    {
     "name": "stderr",
     "output_type": "stream",
     "text": [
      "100%|████████████████████████████████████████████████████████████████████████████████| 223/223 [00:06<00:00, 32.57it/s]\n"
     ]
    },
    {
     "name": "stdout",
     "output_type": "stream",
     "text": [
      "Test accuracy: 85.23852385238524\n",
      "Epoch: 18\n"
     ]
    },
    {
     "name": "stderr",
     "output_type": "stream",
     "text": [
      "100%|██████████████████████████████████████████████████████████████████████████████| 1932/1932 [03:50<00:00,  8.50it/s]\n",
      "100%|██████████████████████████████████████████████████████████████████████████████| 1932/1932 [00:58<00:00, 32.81it/s]\n"
     ]
    },
    {
     "name": "stdout",
     "output_type": "stream",
     "text": [
      "Training accuracy: 100.0\n"
     ]
    },
    {
     "name": "stderr",
     "output_type": "stream",
     "text": [
      "100%|████████████████████████████████████████████████████████████████████████████████| 223/223 [00:06<00:00, 31.79it/s]\n"
     ]
    },
    {
     "name": "stdout",
     "output_type": "stream",
     "text": [
      "Test accuracy: 85.35103510351036\n",
      "Epoch: 19\n"
     ]
    },
    {
     "name": "stderr",
     "output_type": "stream",
     "text": [
      "100%|██████████████████████████████████████████████████████████████████████████████| 1932/1932 [03:49<00:00,  8.72it/s]\n",
      "100%|██████████████████████████████████████████████████████████████████████████████| 1932/1932 [00:58<00:00, 32.87it/s]\n"
     ]
    },
    {
     "name": "stdout",
     "output_type": "stream",
     "text": [
      "Training accuracy: 100.0\n"
     ]
    },
    {
     "name": "stderr",
     "output_type": "stream",
     "text": [
      "100%|████████████████████████████████████████████████████████████████████████████████| 223/223 [00:07<00:00, 31.67it/s]\n"
     ]
    },
    {
     "name": "stdout",
     "output_type": "stream",
     "text": [
      "Test accuracy: 85.37353735373537\n"
     ]
    }
   ],
   "source": [
    "for epoch in range(num_epochs):\n",
    "    print('Epoch:', epoch)\n",
    "    resnet.train()\n",
    "\n",
    "    scheduler.step()\n",
    "    # trained_num = 0\n",
    "    for (samples, labels) in tqdm(train_data_loader):\n",
    "\n",
    "        samplesV = Variable(samples.cuda())\n",
    "        labels = labels.squeeze()\n",
    "        labelsV = Variable(labels.cuda())\n",
    "\n",
    "        # Forward + Backward + Optimize\n",
    "        optimizer.zero_grad()\n",
    "        predict_label = resnet(samplesV)\n",
    "\n",
    "        lossC = criterion1(predict_label[0], labelsV[:, 0].type(torch.LongTensor).cuda())\n",
    "\n",
    "        lossR1 = criterion2(predict_label[1][:, 0], labelsV[:, 1])\n",
    "        lossR2 = criterion2(predict_label[1][:, 1], labelsV[:, 2])\n",
    "        lossR3 = criterion2(predict_label[1][:, 2], labelsV[:, 3])\n",
    "        lossR4 = criterion2(predict_label[1][:, 3], labelsV[:, 4])\n",
    "\n",
    "        loss = lossC + (0.0386*lossR1 + 0.0405*lossR2 + 0.0629*lossR3 + 0.0877*lossR4)/4\n",
    "        loss.backward()\n",
    "        optimizer.step()\n",
    "        \n",
    "    resnet.eval()\n",
    "    correct_t = 0\n",
    "    for (samples, labels) in tqdm(train_data_loader):\n",
    "        with torch.no_grad():\n",
    "            samplesV = Variable(samples.cuda())\n",
    "            labelsV = Variable(labels.cuda())\n",
    "            predict_label = resnet(samplesV)\n",
    "            prediction = predict_label[0].data.max(1)[1]\n",
    "            correct_t += prediction.eq(labelsV[:, 0].data.long()).sum()\n",
    "\n",
    "    print(\"Training accuracy:\", (100*float(correct_t)/num_train_instances))\n",
    "\n",
    "    trainacc = str(100*float(correct_t)/num_train_instances)[0:6]\n",
    "\n",
    "    correct_t = 0\n",
    "    for (samples, labels) in tqdm(test_data_loader):\n",
    "        with torch.no_grad():\n",
    "            samplesV = Variable(samples.cuda())\n",
    "            labelsV = Variable(labels.cuda())\n",
    "\n",
    "        predict_label = resnet(samplesV)\n",
    "        prediction = predict_label[0].data.max(1)[1]\n",
    "        correct_t += prediction.eq(labelsV[:, 0].data.long()).sum()\n",
    "\n",
    "    print(\"Test accuracy:\", (100 * float(correct_t) / num_test_instances))\n",
    "\n",
    "    testacc = str(100 * float(correct_t) / num_test_instances)[0:6]\n",
    "\n",
    "    torch.save(resnet, 'weights/resnet18_Train' + trainacc + 'Test' + testacc + '.pkl')"
   ]
  },
  {
   "cell_type": "code",
   "execution_count": null,
   "metadata": {},
   "outputs": [],
   "source": []
  }
 ],
 "metadata": {
  "kernelspec": {
   "display_name": "Python 3",
   "language": "python",
   "name": "python3"
  },
  "language_info": {
   "codemirror_mode": {
    "name": "ipython",
    "version": 3
   },
   "file_extension": ".py",
   "mimetype": "text/x-python",
   "name": "python",
   "nbconvert_exporter": "python",
   "pygments_lexer": "ipython3",
   "version": "3.7.1"
  }
 },
 "nbformat": 4,
 "nbformat_minor": 2
}
